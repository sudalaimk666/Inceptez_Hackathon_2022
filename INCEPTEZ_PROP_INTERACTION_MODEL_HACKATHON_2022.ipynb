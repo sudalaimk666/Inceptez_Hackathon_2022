{
 "cells": [
  {
   "cell_type": "code",
   "execution_count": 1,
   "id": "3e998599",
   "metadata": {
    "ExecuteTime": {
     "end_time": "2022-03-13T06:26:33.429890Z",
     "start_time": "2022-03-13T06:26:29.052582Z"
    }
   },
   "outputs": [],
   "source": [
    "import numpy as np\n",
    "import pandas as pd\n",
    "import seaborn as sns\n",
    "import scipy as sp\n",
    "import IPython\n",
    "import sys\n",
    "import matplotlib.pyplot as plt\n",
    "import sklearn\n",
    "from sklearn.preprocessing import PolynomialFeatures\n",
    "from sklearn.preprocessing import StandardScaler\n",
    "from sklearn.model_selection import cross_validate\n",
    "from sklearn.model_selection import train_test_split\n",
    "from sklearn.metrics import mean_squared_error, r2_score\n",
    "from sklearn.linear_model import LinearRegression\n",
    "from sklearn.linear_model import Lasso, Ridge, ElasticNet\n",
    "from sklearn.neighbors import KNeighborsRegressor\n",
    "from sklearn.tree import DecisionTreeRegressor\n",
    "from sklearn.ensemble import RandomForestRegressor\n",
    "from sklearn.ensemble import ExtraTreesRegressor\n",
    "from sklearn.ensemble import GradientBoostingRegressor\n",
    "import xgboost\n",
    "from xgboost import XGBRegressor\n",
    "from sklearn.ensemble import AdaBoostRegressor\n",
    "%matplotlib inline\n",
    "plt.rcParams['figure.figsize'] = (10,10)"
   ]
  },
  {
   "cell_type": "code",
   "execution_count": 2,
   "id": "b9929581",
   "metadata": {
    "ExecuteTime": {
     "end_time": "2022-03-13T06:26:33.445849Z",
     "start_time": "2022-03-13T06:26:33.432882Z"
    }
   },
   "outputs": [],
   "source": [
    "import warnings\n",
    "warnings.filterwarnings(\"ignore\")"
   ]
  },
  {
   "cell_type": "code",
   "execution_count": 3,
   "id": "532ebcb3",
   "metadata": {
    "ExecuteTime": {
     "end_time": "2022-03-13T06:26:33.589463Z",
     "start_time": "2022-03-13T06:26:33.447842Z"
    }
   },
   "outputs": [],
   "source": [
    "train = pd.read_csv(\"Hackathon_2022/resources/train_preprocessed_HK_IZ.csv\")\n",
    "test = pd.read_csv(\"Hackathon_2022/resources/test_preprocessed_HK_IZ.csv\")"
   ]
  },
  {
   "cell_type": "code",
   "execution_count": 4,
   "id": "8cc052ea",
   "metadata": {
    "ExecuteTime": {
     "end_time": "2022-03-13T06:26:33.605422Z",
     "start_time": "2022-03-13T06:26:33.593453Z"
    }
   },
   "outputs": [
    {
     "name": "stdout",
     "output_type": "stream",
     "text": [
      "(22779, 17)\n",
      "(6109, 17)\n"
     ]
    }
   ],
   "source": [
    "print(train.shape)\n",
    "print(test.shape)"
   ]
  },
  {
   "cell_type": "code",
   "execution_count": 5,
   "id": "8133cb7e",
   "metadata": {
    "ExecuteTime": {
     "end_time": "2022-03-13T06:26:33.621380Z",
     "start_time": "2022-03-13T06:26:33.608414Z"
    }
   },
   "outputs": [],
   "source": [
    "train_X = train.drop(columns=[\"count\", \"property_id\"])\n",
    "train_y = train['count']\n",
    "test_X = test.drop(columns=[\"count\",\"property_id\"])"
   ]
  },
  {
   "cell_type": "code",
   "execution_count": 6,
   "id": "a4c7277f",
   "metadata": {
    "ExecuteTime": {
     "end_time": "2022-03-13T06:26:33.636338Z",
     "start_time": "2022-03-13T06:26:33.624371Z"
    }
   },
   "outputs": [
    {
     "name": "stdout",
     "output_type": "stream",
     "text": [
      "(22779, 15)\n",
      "(22779,)\n",
      "(6109, 15)\n"
     ]
    }
   ],
   "source": [
    "print(train_X.shape)\n",
    "print(train_y.shape)\n",
    "print(test_X.shape)"
   ]
  },
  {
   "cell_type": "markdown",
   "id": "953438de",
   "metadata": {},
   "source": [
    "# validating the trainable model"
   ]
  },
  {
   "cell_type": "code",
   "execution_count": 7,
   "id": "ce214deb",
   "metadata": {
    "ExecuteTime": {
     "end_time": "2022-03-13T06:26:33.683215Z",
     "start_time": "2022-03-13T06:26:33.641326Z"
    }
   },
   "outputs": [],
   "source": [
    "X = train_X\n",
    "sc_X = StandardScaler()\n",
    "X = sc_X.fit_transform(X)\n",
    "y = train_y"
   ]
  },
  {
   "cell_type": "code",
   "execution_count": 8,
   "id": "50e1b722",
   "metadata": {
    "ExecuteTime": {
     "end_time": "2022-03-13T06:26:33.715127Z",
     "start_time": "2022-03-13T06:26:33.686207Z"
    }
   },
   "outputs": [],
   "source": [
    "X_train, X_valid, y_train, y_valid = train_test_split(X, y, test_size = 0.3, random_state = 42)"
   ]
  },
  {
   "cell_type": "code",
   "execution_count": 9,
   "id": "02a3a827",
   "metadata": {
    "ExecuteTime": {
     "end_time": "2022-03-13T06:26:33.731085Z",
     "start_time": "2022-03-13T06:26:33.718120Z"
    }
   },
   "outputs": [],
   "source": [
    "X_valid = sc_X.fit_transform(X_valid)"
   ]
  },
  {
   "cell_type": "code",
   "execution_count": 10,
   "id": "3a8b25e4",
   "metadata": {
    "ExecuteTime": {
     "end_time": "2022-03-13T06:26:33.747042Z",
     "start_time": "2022-03-13T06:26:33.737069Z"
    }
   },
   "outputs": [
    {
     "name": "stdout",
     "output_type": "stream",
     "text": [
      "(15945, 15)\n",
      "(15945,)\n",
      "(6834, 15)\n",
      "(6834,)\n"
     ]
    }
   ],
   "source": [
    "print(X_train.shape)\n",
    "print(y_train.shape)\n",
    "print(X_valid.shape)\n",
    "print(y_valid.shape)"
   ]
  },
  {
   "cell_type": "code",
   "execution_count": 11,
   "id": "00f4c17c",
   "metadata": {
    "ExecuteTime": {
     "end_time": "2022-03-13T06:26:33.763000Z",
     "start_time": "2022-03-13T06:26:33.750035Z"
    }
   },
   "outputs": [],
   "source": [
    "\n",
    "reg = {\n",
    "\"LinearRegression\": LinearRegression(),\n",
    "\"Lasso\": Lasso(), \n",
    "\"Ridge\": Ridge(alpha=1.0),\n",
    "\"ElasticNet\":ElasticNet(random_state=0),\n",
    "\"KNeighborsRegressor\":KNeighborsRegressor(n_neighbors=2),\n",
    "\"AdaBoostRegressor\":AdaBoostRegressor(random_state=0, n_estimators=100),\n",
    "\"DecisionTreeRegressor\": DecisionTreeRegressor(),\n",
    "\"ExtraTreesRegressor\": ExtraTreesRegressor(n_jobs=-1),\n",
    "\"RandomForestRegressor\": RandomForestRegressor(n_jobs=-1),\n",
    "\"GradientBoostingRegressor\":GradientBoostingRegressor(),\n",
    "\"XGBRegressor\":xgboost.XGBRegressor( n_jobs=-1)\n",
    "}"
   ]
  },
  {
   "cell_type": "code",
   "execution_count": 12,
   "id": "d0bfccaf",
   "metadata": {
    "ExecuteTime": {
     "end_time": "2022-03-13T06:26:33.778962Z",
     "start_time": "2022-03-13T06:26:33.765994Z"
    }
   },
   "outputs": [],
   "source": [
    "#creating a result file\n",
    "\n",
    "result = pd.DataFrame(columns=['propert_id','count'])"
   ]
  },
  {
   "cell_type": "code",
   "execution_count": 13,
   "id": "fa80d763",
   "metadata": {
    "ExecuteTime": {
     "end_time": "2022-03-13T06:26:33.810874Z",
     "start_time": "2022-03-13T06:26:33.781950Z"
    }
   },
   "outputs": [
    {
     "data": {
      "text/html": [
       "<div>\n",
       "<style scoped>\n",
       "    .dataframe tbody tr th:only-of-type {\n",
       "        vertical-align: middle;\n",
       "    }\n",
       "\n",
       "    .dataframe tbody tr th {\n",
       "        vertical-align: top;\n",
       "    }\n",
       "\n",
       "    .dataframe thead th {\n",
       "        text-align: right;\n",
       "    }\n",
       "</style>\n",
       "<table border=\"1\" class=\"dataframe\">\n",
       "  <thead>\n",
       "    <tr style=\"text-align: right;\">\n",
       "      <th></th>\n",
       "      <th>propert_id</th>\n",
       "      <th>count</th>\n",
       "    </tr>\n",
       "  </thead>\n",
       "  <tbody>\n",
       "  </tbody>\n",
       "</table>\n",
       "</div>"
      ],
      "text/plain": [
       "Empty DataFrame\n",
       "Columns: [propert_id, count]\n",
       "Index: []"
      ]
     },
     "execution_count": 13,
     "metadata": {},
     "output_type": "execute_result"
    }
   ],
   "source": [
    "result.head()"
   ]
  },
  {
   "cell_type": "code",
   "execution_count": 14,
   "id": "77c9f7c8",
   "metadata": {
    "ExecuteTime": {
     "end_time": "2022-03-13T06:26:33.826830Z",
     "start_time": "2022-03-13T06:26:33.813863Z"
    }
   },
   "outputs": [],
   "source": [
    "result['propert_id'] = test['property_id']\n",
    "result['count']=test['count']"
   ]
  },
  {
   "cell_type": "code",
   "execution_count": 15,
   "id": "6ca0c149",
   "metadata": {
    "ExecuteTime": {
     "end_time": "2022-03-13T06:26:33.857745Z",
     "start_time": "2022-03-13T06:26:33.829821Z"
    }
   },
   "outputs": [
    {
     "data": {
      "text/html": [
       "<div>\n",
       "<style scoped>\n",
       "    .dataframe tbody tr th:only-of-type {\n",
       "        vertical-align: middle;\n",
       "    }\n",
       "\n",
       "    .dataframe tbody tr th {\n",
       "        vertical-align: top;\n",
       "    }\n",
       "\n",
       "    .dataframe thead th {\n",
       "        text-align: right;\n",
       "    }\n",
       "</style>\n",
       "<table border=\"1\" class=\"dataframe\">\n",
       "  <thead>\n",
       "    <tr style=\"text-align: right;\">\n",
       "      <th></th>\n",
       "      <th>propert_id</th>\n",
       "      <th>count</th>\n",
       "    </tr>\n",
       "  </thead>\n",
       "  <tbody>\n",
       "    <tr>\n",
       "      <th>0</th>\n",
       "      <td>ff8081815ab805ff015ac2099fa44da7</td>\n",
       "      <td>NaN</td>\n",
       "    </tr>\n",
       "    <tr>\n",
       "      <th>1</th>\n",
       "      <td>ff8081815ab805ff015ac20d0c444f41</td>\n",
       "      <td>NaN</td>\n",
       "    </tr>\n",
       "    <tr>\n",
       "      <th>2</th>\n",
       "      <td>ff8081815ab805ff015ac21333385249</td>\n",
       "      <td>NaN</td>\n",
       "    </tr>\n",
       "    <tr>\n",
       "      <th>3</th>\n",
       "      <td>ff8081815ab805ff015ac213a3c25287</td>\n",
       "      <td>NaN</td>\n",
       "    </tr>\n",
       "    <tr>\n",
       "      <th>4</th>\n",
       "      <td>ff8081815ab805ff015ac213f35f52b4</td>\n",
       "      <td>NaN</td>\n",
       "    </tr>\n",
       "  </tbody>\n",
       "</table>\n",
       "</div>"
      ],
      "text/plain": [
       "                         propert_id  count\n",
       "0  ff8081815ab805ff015ac2099fa44da7    NaN\n",
       "1  ff8081815ab805ff015ac20d0c444f41    NaN\n",
       "2  ff8081815ab805ff015ac21333385249    NaN\n",
       "3  ff8081815ab805ff015ac213a3c25287    NaN\n",
       "4  ff8081815ab805ff015ac213f35f52b4    NaN"
      ]
     },
     "execution_count": 15,
     "metadata": {},
     "output_type": "execute_result"
    }
   ],
   "source": [
    "result.head()"
   ]
  },
  {
   "cell_type": "code",
   "execution_count": 16,
   "id": "026e2c59",
   "metadata": {
    "ExecuteTime": {
     "end_time": "2022-03-13T06:26:33.872706Z",
     "start_time": "2022-03-13T06:26:33.860738Z"
    }
   },
   "outputs": [
    {
     "data": {
      "text/plain": [
       "(6109, 2)"
      ]
     },
     "execution_count": 16,
     "metadata": {},
     "output_type": "execute_result"
    }
   ],
   "source": [
    "result.shape"
   ]
  },
  {
   "cell_type": "code",
   "execution_count": 17,
   "id": "12efd9ea",
   "metadata": {
    "ExecuteTime": {
     "end_time": "2022-03-13T06:26:33.920579Z",
     "start_time": "2022-03-13T06:26:33.874701Z"
    }
   },
   "outputs": [],
   "source": [
    "result.to_csv(\"Hackathon_2022/resources/result_HK_IZ.csv\", index= False)"
   ]
  },
  {
   "cell_type": "code",
   "execution_count": 18,
   "id": "8ae11c4e",
   "metadata": {
    "ExecuteTime": {
     "end_time": "2022-03-13T06:26:33.936536Z",
     "start_time": "2022-03-13T06:26:33.923571Z"
    }
   },
   "outputs": [],
   "source": [
    "#model evaluation"
   ]
  },
  {
   "cell_type": "code",
   "execution_count": 19,
   "id": "9bcb9c3c",
   "metadata": {
    "ExecuteTime": {
     "end_time": "2022-03-13T06:26:53.363275Z",
     "start_time": "2022-03-13T06:26:33.939527Z"
    }
   },
   "outputs": [
    {
     "name": "stdout",
     "output_type": "stream",
     "text": [
      "--------------------------------------------------------------\n",
      "Model: LinearRegression\n",
      "-----Training Data Evaluation-----\n",
      "R2 Value:  0.008731244030999896\n",
      "RMSE:  10.042700379404787\n",
      "MAPE: 209.48729371574498\n",
      "--------------------------------------------------------------\n",
      "Model: Lasso\n",
      "-----Training Data Evaluation-----\n",
      "R2 Value:  -0.00032400172275792727\n",
      "RMSE:  10.088466162036156\n",
      "MAPE: 212.18136726994405\n",
      "--------------------------------------------------------------\n",
      "Model: Ridge\n",
      "-----Training Data Evaluation-----\n",
      "R2 Value:  0.00873286444388588\n",
      "RMSE:  10.042692171071952\n",
      "MAPE: 209.48722680335257\n",
      "--------------------------------------------------------------\n",
      "Model: ElasticNet\n",
      "-----Training Data Evaluation-----\n",
      "R2 Value:  0.00290343038819052\n",
      "RMSE:  10.07217836693343\n",
      "MAPE: 211.6153362468198\n",
      "--------------------------------------------------------------\n",
      "Model: KNeighborsRegressor\n",
      "-----Training Data Evaluation-----\n",
      "R2 Value:  -0.5029851268174477\n",
      "RMSE:  12.366082468194378\n",
      "MAPE: 227.29607619421824\n",
      "--------------------------------------------------------------\n",
      "Model: AdaBoostRegressor\n",
      "-----Training Data Evaluation-----\n",
      "R2 Value:  -1.8500076809685657\n",
      "RMSE:  17.02855561980796\n",
      "MAPE: 646.578638227039\n",
      "--------------------------------------------------------------\n",
      "Model: DecisionTreeRegressor\n",
      "-----Training Data Evaluation-----\n",
      "R2 Value:  -1.8572548615134963\n",
      "RMSE:  17.05019252000608\n",
      "MAPE: 325.53287766378463\n",
      "--------------------------------------------------------------\n",
      "Model: ExtraTreesRegressor\n",
      "-----Training Data Evaluation-----\n",
      "R2 Value:  -0.11062316053983623\n",
      "RMSE:  10.63011982226052\n",
      "MAPE: 246.39186437692527\n",
      "--------------------------------------------------------------\n",
      "Model: RandomForestRegressor\n",
      "-----Training Data Evaluation-----\n",
      "R2 Value:  -0.06423971136216555\n",
      "RMSE:  10.405777301005172\n",
      "MAPE: 241.4526245432358\n",
      "--------------------------------------------------------------\n",
      "Model: GradientBoostingRegressor\n",
      "-----Training Data Evaluation-----\n",
      "R2 Value:  0.03366617867098087\n",
      "RMSE:  9.915586030446361\n",
      "MAPE: 200.18607149286916\n",
      "--------------------------------------------------------------\n",
      "Model: XGBRegressor\n",
      "-----Training Data Evaluation-----\n",
      "R2 Value:  -0.08876180601255923\n",
      "RMSE:  10.524978943137036\n",
      "MAPE: 213.102820840228\n",
      "Wall time: 19.4 s\n"
     ]
    }
   ],
   "source": [
    "%%time\n",
    "dic =  {\"Model\":[],\"R2_Train\":[],\"RMSE_Train\":[],\"MAPE_Train\":[]}\n",
    "for name, model in reg.items():\n",
    "   \n",
    "  model.fit(X_train, y_train)\n",
    "  y_train_pred = model.predict(X_valid)\n",
    "  r2 = r2_score(y_valid, y_train_pred)\n",
    "  rmse  = np.sqrt(mean_squared_error(y_valid, y_train_pred))\n",
    "  mape = np.mean(np.abs((y_valid - y_train_pred) / y_valid)) * 100\n",
    "  print(\"--------------------------------------------------------------\")\n",
    "  print(\"Model:\", name)\n",
    "  print(\"-----Training Data Evaluation-----\")\n",
    "  print(\"R2 Value: \", r2_score(y_valid, y_train_pred))\n",
    "  print(\"RMSE: \",np.sqrt(mean_squared_error(y_valid, y_train_pred)))\n",
    "  print(\"MAPE:\" , np.mean(np.abs((y_valid - y_train_pred) / y_valid)) * 100)\n",
    "  dic[\"Model\"].append(name)\n",
    "  dic[\"R2_Train\"].append(r2)\n",
    "  dic[\"RMSE_Train\"].append(rmse)\n",
    "  dic[\"MAPE_Train\"].append(mape)\n",
    "  result[\"count\"] = abs(model.predict(test_X))\n",
    "  result.to_csv(name+\"_HK_IZ.csv\", index = False)"
   ]
  },
  {
   "cell_type": "code",
   "execution_count": 20,
   "id": "744c6bc6",
   "metadata": {
    "ExecuteTime": {
     "end_time": "2022-03-13T06:26:53.395188Z",
     "start_time": "2022-03-13T06:26:53.366266Z"
    }
   },
   "outputs": [
    {
     "data": {
      "text/html": [
       "<div>\n",
       "<style scoped>\n",
       "    .dataframe tbody tr th:only-of-type {\n",
       "        vertical-align: middle;\n",
       "    }\n",
       "\n",
       "    .dataframe tbody tr th {\n",
       "        vertical-align: top;\n",
       "    }\n",
       "\n",
       "    .dataframe thead th {\n",
       "        text-align: right;\n",
       "    }\n",
       "</style>\n",
       "<table border=\"1\" class=\"dataframe\">\n",
       "  <thead>\n",
       "    <tr style=\"text-align: right;\">\n",
       "      <th></th>\n",
       "      <th>Model</th>\n",
       "      <th>R2_Train</th>\n",
       "      <th>RMSE_Train</th>\n",
       "      <th>MAPE_Train</th>\n",
       "    </tr>\n",
       "  </thead>\n",
       "  <tbody>\n",
       "    <tr>\n",
       "      <th>9</th>\n",
       "      <td>GradientBoostingRegressor</td>\n",
       "      <td>0.033666</td>\n",
       "      <td>9.915586</td>\n",
       "      <td>200.186071</td>\n",
       "    </tr>\n",
       "    <tr>\n",
       "      <th>2</th>\n",
       "      <td>Ridge</td>\n",
       "      <td>0.008733</td>\n",
       "      <td>10.042692</td>\n",
       "      <td>209.487227</td>\n",
       "    </tr>\n",
       "    <tr>\n",
       "      <th>0</th>\n",
       "      <td>LinearRegression</td>\n",
       "      <td>0.008731</td>\n",
       "      <td>10.042700</td>\n",
       "      <td>209.487294</td>\n",
       "    </tr>\n",
       "    <tr>\n",
       "      <th>3</th>\n",
       "      <td>ElasticNet</td>\n",
       "      <td>0.002903</td>\n",
       "      <td>10.072178</td>\n",
       "      <td>211.615336</td>\n",
       "    </tr>\n",
       "    <tr>\n",
       "      <th>1</th>\n",
       "      <td>Lasso</td>\n",
       "      <td>-0.000324</td>\n",
       "      <td>10.088466</td>\n",
       "      <td>212.181367</td>\n",
       "    </tr>\n",
       "    <tr>\n",
       "      <th>8</th>\n",
       "      <td>RandomForestRegressor</td>\n",
       "      <td>-0.064240</td>\n",
       "      <td>10.405777</td>\n",
       "      <td>241.452625</td>\n",
       "    </tr>\n",
       "    <tr>\n",
       "      <th>10</th>\n",
       "      <td>XGBRegressor</td>\n",
       "      <td>-0.088762</td>\n",
       "      <td>10.524979</td>\n",
       "      <td>213.102821</td>\n",
       "    </tr>\n",
       "    <tr>\n",
       "      <th>7</th>\n",
       "      <td>ExtraTreesRegressor</td>\n",
       "      <td>-0.110623</td>\n",
       "      <td>10.630120</td>\n",
       "      <td>246.391864</td>\n",
       "    </tr>\n",
       "    <tr>\n",
       "      <th>4</th>\n",
       "      <td>KNeighborsRegressor</td>\n",
       "      <td>-0.502985</td>\n",
       "      <td>12.366082</td>\n",
       "      <td>227.296076</td>\n",
       "    </tr>\n",
       "    <tr>\n",
       "      <th>5</th>\n",
       "      <td>AdaBoostRegressor</td>\n",
       "      <td>-1.850008</td>\n",
       "      <td>17.028556</td>\n",
       "      <td>646.578638</td>\n",
       "    </tr>\n",
       "    <tr>\n",
       "      <th>6</th>\n",
       "      <td>DecisionTreeRegressor</td>\n",
       "      <td>-1.857255</td>\n",
       "      <td>17.050193</td>\n",
       "      <td>325.532878</td>\n",
       "    </tr>\n",
       "  </tbody>\n",
       "</table>\n",
       "</div>"
      ],
      "text/plain": [
       "                        Model  R2_Train  RMSE_Train  MAPE_Train\n",
       "9   GradientBoostingRegressor  0.033666    9.915586  200.186071\n",
       "2                       Ridge  0.008733   10.042692  209.487227\n",
       "0            LinearRegression  0.008731   10.042700  209.487294\n",
       "3                  ElasticNet  0.002903   10.072178  211.615336\n",
       "1                       Lasso -0.000324   10.088466  212.181367\n",
       "8       RandomForestRegressor -0.064240   10.405777  241.452625\n",
       "10               XGBRegressor -0.088762   10.524979  213.102821\n",
       "7         ExtraTreesRegressor -0.110623   10.630120  246.391864\n",
       "4         KNeighborsRegressor -0.502985   12.366082  227.296076\n",
       "5           AdaBoostRegressor -1.850008   17.028556  646.578638\n",
       "6       DecisionTreeRegressor -1.857255   17.050193  325.532878"
      ]
     },
     "execution_count": 20,
     "metadata": {},
     "output_type": "execute_result"
    }
   ],
   "source": [
    "score_data = pd.DataFrame(dic)\n",
    "score_data.sort_values(\"RMSE_Train\", axis = 0, ascending = True)"
   ]
  },
  {
   "cell_type": "code",
   "execution_count": 21,
   "id": "d4fe7b3a",
   "metadata": {
    "ExecuteTime": {
     "end_time": "2022-03-13T06:26:53.411145Z",
     "start_time": "2022-03-13T06:26:53.398180Z"
    }
   },
   "outputs": [],
   "source": [
    "#increasing the features with\n",
    "poly = PolynomialFeatures(degree=2)"
   ]
  },
  {
   "cell_type": "code",
   "execution_count": 22,
   "id": "2c1e5542",
   "metadata": {
    "ExecuteTime": {
     "end_time": "2022-03-13T06:26:53.501745Z",
     "start_time": "2022-03-13T06:26:53.414138Z"
    }
   },
   "outputs": [],
   "source": [
    "new_X_train=poly.fit_transform(X_train)\n",
    "new_X_valid=poly.fit_transform(X_valid)\n",
    "new_test_X=poly.fit_transform(test_X)"
   ]
  },
  {
   "cell_type": "code",
   "execution_count": 23,
   "id": "997f2ea7",
   "metadata": {
    "ExecuteTime": {
     "end_time": "2022-03-13T06:26:53.517828Z",
     "start_time": "2022-03-13T06:26:53.501745Z"
    }
   },
   "outputs": [
    {
     "name": "stdout",
     "output_type": "stream",
     "text": [
      "(15945, 136)\n",
      "(6834, 136)\n",
      "(6109, 136)\n"
     ]
    }
   ],
   "source": [
    "print(new_X_train.shape)\n",
    "print(new_X_valid.shape)\n",
    "print(new_test_X.shape)"
   ]
  },
  {
   "cell_type": "code",
   "execution_count": 24,
   "id": "cf1ce0e0",
   "metadata": {
    "ExecuteTime": {
     "end_time": "2022-03-13T06:31:06.153684Z",
     "start_time": "2022-03-13T06:26:53.519853Z"
    }
   },
   "outputs": [
    {
     "name": "stdout",
     "output_type": "stream",
     "text": [
      "--------------------------------------------------------------\n",
      "Model_poly: LinearRegression\n",
      "-----Training Data Evaluation with polynomial features-----\n",
      "R2 Value_poly:  -2611859534410251.0\n",
      "RMSE_poly:  515501229.48817205\n",
      "MAPE_poly: 17014118151.364183\n",
      "--------------------------------------------------------------\n",
      "Model_poly: Lasso\n",
      "-----Training Data Evaluation with polynomial features-----\n",
      "R2 Value_poly:  0.0006378854446240645\n",
      "RMSE_poly:  10.08361458393763\n",
      "MAPE_poly: 212.03525726462212\n",
      "--------------------------------------------------------------\n",
      "Model_poly: Ridge\n",
      "-----Training Data Evaluation with polynomial features-----\n",
      "R2 Value_poly:  -0.0016989398294469105\n",
      "RMSE_poly:  10.095397043135797\n",
      "MAPE_poly: 206.46778539660951\n",
      "--------------------------------------------------------------\n",
      "Model_poly: ElasticNet\n",
      "-----Training Data Evaluation with polynomial features-----\n",
      "R2 Value_poly:  0.004029450364682496\n",
      "RMSE_poly:  10.066489510817943\n",
      "MAPE_poly: 211.42541864548326\n",
      "--------------------------------------------------------------\n",
      "Model_poly: KNeighborsRegressor\n",
      "-----Training Data Evaluation with polynomial features-----\n",
      "R2 Value_poly:  -0.5062120594397148\n",
      "RMSE_poly:  12.379350436809789\n",
      "MAPE_poly: 225.78202898877288\n",
      "--------------------------------------------------------------\n",
      "Model_poly: AdaBoostRegressor\n",
      "-----Training Data Evaluation with polynomial features-----\n",
      "R2 Value_poly:  -7.086230230229253\n",
      "RMSE_poly:  28.68321631410465\n",
      "MAPE_poly: 1153.9884786832115\n",
      "--------------------------------------------------------------\n",
      "Model_poly: DecisionTreeRegressor\n",
      "-----Training Data Evaluation with polynomial features-----\n",
      "R2 Value_poly:  -1.619728890425149\n",
      "RMSE_poly:  16.326119527059184\n",
      "MAPE_poly: 290.14588628331757\n",
      "--------------------------------------------------------------\n",
      "Model_poly: ExtraTreesRegressor\n",
      "-----Training Data Evaluation with polynomial features-----\n",
      "R2 Value_poly:  -0.1327968400107642\n",
      "RMSE_poly:  10.735710985507886\n",
      "MAPE_poly: 260.1806405992512\n",
      "--------------------------------------------------------------\n",
      "Model_poly: RandomForestRegressor\n",
      "-----Training Data Evaluation with polynomial features-----\n",
      "R2 Value_poly:  -0.11124004238069451\n",
      "RMSE_poly:  10.633071596451755\n",
      "MAPE_poly: 260.0668291043638\n",
      "--------------------------------------------------------------\n",
      "Model_poly: GradientBoostingRegressor\n",
      "-----Training Data Evaluation with polynomial features-----\n",
      "R2 Value_poly:  -0.2842976134560533\n",
      "RMSE_poly:  11.431089754085983\n",
      "MAPE_poly: 319.0984566018822\n",
      "--------------------------------------------------------------\n",
      "Model_poly: XGBRegressor\n",
      "-----Training Data Evaluation with polynomial features-----\n",
      "R2 Value_poly:  -0.5012231157742741\n",
      "RMSE_poly:  12.358831709915986\n",
      "MAPE_poly: 346.9437942868483\n",
      "Wall time: 4min 12s\n"
     ]
    }
   ],
   "source": [
    "%%time\n",
    "dic_poly =  {\"Model_poly\":[],\"R2_Train_poly\":[],\"RMSE_Train_poly\":[],\"MAPE_Train_poly\":[]}\n",
    "for name, model in reg.items():\n",
    "   \n",
    "  model.fit(new_X_train, y_train)\n",
    "  y_train_pred_poly = model.predict(new_X_valid)\n",
    "  r2_poly = r2_score(y_valid, y_train_pred_poly)\n",
    "  rmse_poly  = np.sqrt(mean_squared_error(y_valid, y_train_pred_poly))\n",
    "  mape_poly = np.mean(np.abs((y_valid - y_train_pred_poly) / y_valid)) * 100\n",
    "  print(\"--------------------------------------------------------------\")\n",
    "  print(\"Model_poly:\", name)\n",
    "  print(\"-----Training Data Evaluation with polynomial features-----\")\n",
    "  print(\"R2 Value_poly: \", r2_score(y_valid, y_train_pred_poly))\n",
    "  print(\"RMSE_poly: \",np.sqrt(mean_squared_error(y_valid, y_train_pred_poly)))\n",
    "  print(\"MAPE_poly:\" , np.mean(np.abs((y_valid - y_train_pred_poly) / y_valid)) * 100)\n",
    "  dic_poly[\"Model_poly\"].append(name)\n",
    "  dic_poly[\"R2_Train_poly\"].append(r2_poly)\n",
    "  dic_poly[\"RMSE_Train_poly\"].append(rmse_poly)\n",
    "  dic_poly[\"MAPE_Train_poly\"].append(mape_poly)\n",
    "  result[\"count\"] = abs(model.predict(new_test_X))\n",
    "  result.to_csv( name+\"_poly_HK_IZ.csv\", index = False)"
   ]
  },
  {
   "cell_type": "code",
   "execution_count": 25,
   "id": "c9ac7b14",
   "metadata": {
    "ExecuteTime": {
     "end_time": "2022-03-13T06:31:06.185599Z",
     "start_time": "2022-03-13T06:31:06.156677Z"
    }
   },
   "outputs": [
    {
     "data": {
      "text/html": [
       "<div>\n",
       "<style scoped>\n",
       "    .dataframe tbody tr th:only-of-type {\n",
       "        vertical-align: middle;\n",
       "    }\n",
       "\n",
       "    .dataframe tbody tr th {\n",
       "        vertical-align: top;\n",
       "    }\n",
       "\n",
       "    .dataframe thead th {\n",
       "        text-align: right;\n",
       "    }\n",
       "</style>\n",
       "<table border=\"1\" class=\"dataframe\">\n",
       "  <thead>\n",
       "    <tr style=\"text-align: right;\">\n",
       "      <th></th>\n",
       "      <th>Model_poly</th>\n",
       "      <th>R2_Train_poly</th>\n",
       "      <th>RMSE_Train_poly</th>\n",
       "      <th>MAPE_Train_poly</th>\n",
       "    </tr>\n",
       "  </thead>\n",
       "  <tbody>\n",
       "    <tr>\n",
       "      <th>3</th>\n",
       "      <td>ElasticNet</td>\n",
       "      <td>4.029450e-03</td>\n",
       "      <td>1.006649e+01</td>\n",
       "      <td>2.114254e+02</td>\n",
       "    </tr>\n",
       "    <tr>\n",
       "      <th>1</th>\n",
       "      <td>Lasso</td>\n",
       "      <td>6.378854e-04</td>\n",
       "      <td>1.008361e+01</td>\n",
       "      <td>2.120353e+02</td>\n",
       "    </tr>\n",
       "    <tr>\n",
       "      <th>2</th>\n",
       "      <td>Ridge</td>\n",
       "      <td>-1.698940e-03</td>\n",
       "      <td>1.009540e+01</td>\n",
       "      <td>2.064678e+02</td>\n",
       "    </tr>\n",
       "    <tr>\n",
       "      <th>8</th>\n",
       "      <td>RandomForestRegressor</td>\n",
       "      <td>-1.112400e-01</td>\n",
       "      <td>1.063307e+01</td>\n",
       "      <td>2.600668e+02</td>\n",
       "    </tr>\n",
       "    <tr>\n",
       "      <th>7</th>\n",
       "      <td>ExtraTreesRegressor</td>\n",
       "      <td>-1.327968e-01</td>\n",
       "      <td>1.073571e+01</td>\n",
       "      <td>2.601806e+02</td>\n",
       "    </tr>\n",
       "    <tr>\n",
       "      <th>9</th>\n",
       "      <td>GradientBoostingRegressor</td>\n",
       "      <td>-2.842976e-01</td>\n",
       "      <td>1.143109e+01</td>\n",
       "      <td>3.190985e+02</td>\n",
       "    </tr>\n",
       "    <tr>\n",
       "      <th>10</th>\n",
       "      <td>XGBRegressor</td>\n",
       "      <td>-5.012231e-01</td>\n",
       "      <td>1.235883e+01</td>\n",
       "      <td>3.469438e+02</td>\n",
       "    </tr>\n",
       "    <tr>\n",
       "      <th>4</th>\n",
       "      <td>KNeighborsRegressor</td>\n",
       "      <td>-5.062121e-01</td>\n",
       "      <td>1.237935e+01</td>\n",
       "      <td>2.257820e+02</td>\n",
       "    </tr>\n",
       "    <tr>\n",
       "      <th>6</th>\n",
       "      <td>DecisionTreeRegressor</td>\n",
       "      <td>-1.619729e+00</td>\n",
       "      <td>1.632612e+01</td>\n",
       "      <td>2.901459e+02</td>\n",
       "    </tr>\n",
       "    <tr>\n",
       "      <th>5</th>\n",
       "      <td>AdaBoostRegressor</td>\n",
       "      <td>-7.086230e+00</td>\n",
       "      <td>2.868322e+01</td>\n",
       "      <td>1.153988e+03</td>\n",
       "    </tr>\n",
       "    <tr>\n",
       "      <th>0</th>\n",
       "      <td>LinearRegression</td>\n",
       "      <td>-2.611860e+15</td>\n",
       "      <td>5.155012e+08</td>\n",
       "      <td>1.701412e+10</td>\n",
       "    </tr>\n",
       "  </tbody>\n",
       "</table>\n",
       "</div>"
      ],
      "text/plain": [
       "                   Model_poly  R2_Train_poly  RMSE_Train_poly  MAPE_Train_poly\n",
       "3                  ElasticNet   4.029450e-03     1.006649e+01     2.114254e+02\n",
       "1                       Lasso   6.378854e-04     1.008361e+01     2.120353e+02\n",
       "2                       Ridge  -1.698940e-03     1.009540e+01     2.064678e+02\n",
       "8       RandomForestRegressor  -1.112400e-01     1.063307e+01     2.600668e+02\n",
       "7         ExtraTreesRegressor  -1.327968e-01     1.073571e+01     2.601806e+02\n",
       "9   GradientBoostingRegressor  -2.842976e-01     1.143109e+01     3.190985e+02\n",
       "10               XGBRegressor  -5.012231e-01     1.235883e+01     3.469438e+02\n",
       "4         KNeighborsRegressor  -5.062121e-01     1.237935e+01     2.257820e+02\n",
       "6       DecisionTreeRegressor  -1.619729e+00     1.632612e+01     2.901459e+02\n",
       "5           AdaBoostRegressor  -7.086230e+00     2.868322e+01     1.153988e+03\n",
       "0            LinearRegression  -2.611860e+15     5.155012e+08     1.701412e+10"
      ]
     },
     "execution_count": 25,
     "metadata": {},
     "output_type": "execute_result"
    }
   ],
   "source": [
    "score_poly_data = pd.DataFrame(dic_poly)\n",
    "score_poly_data.sort_values(\"RMSE_Train_poly\", axis = 0, ascending = True)"
   ]
  },
  {
   "cell_type": "markdown",
   "id": "bd892d26",
   "metadata": {
    "ExecuteTime": {
     "end_time": "2022-03-13T05:13:34.063635Z",
     "start_time": "2022-03-13T05:13:34.052665Z"
    }
   },
   "source": [
    "# comparing model reults with and without the implementation of polynomial features"
   ]
  },
  {
   "cell_type": "code",
   "execution_count": 26,
   "id": "ee0715e0",
   "metadata": {
    "ExecuteTime": {
     "end_time": "2022-03-13T06:31:06.216518Z",
     "start_time": "2022-03-13T06:31:06.190586Z"
    }
   },
   "outputs": [
    {
     "data": {
      "text/html": [
       "<div>\n",
       "<style scoped>\n",
       "    .dataframe tbody tr th:only-of-type {\n",
       "        vertical-align: middle;\n",
       "    }\n",
       "\n",
       "    .dataframe tbody tr th {\n",
       "        vertical-align: top;\n",
       "    }\n",
       "\n",
       "    .dataframe thead th {\n",
       "        text-align: right;\n",
       "    }\n",
       "</style>\n",
       "<table border=\"1\" class=\"dataframe\">\n",
       "  <thead>\n",
       "    <tr style=\"text-align: right;\">\n",
       "      <th></th>\n",
       "      <th>Model</th>\n",
       "      <th>R2_Train</th>\n",
       "      <th>RMSE_Train</th>\n",
       "      <th>MAPE_Train</th>\n",
       "    </tr>\n",
       "  </thead>\n",
       "  <tbody>\n",
       "    <tr>\n",
       "      <th>9</th>\n",
       "      <td>GradientBoostingRegressor</td>\n",
       "      <td>0.033666</td>\n",
       "      <td>9.915586</td>\n",
       "      <td>200.186071</td>\n",
       "    </tr>\n",
       "    <tr>\n",
       "      <th>2</th>\n",
       "      <td>Ridge</td>\n",
       "      <td>0.008733</td>\n",
       "      <td>10.042692</td>\n",
       "      <td>209.487227</td>\n",
       "    </tr>\n",
       "    <tr>\n",
       "      <th>0</th>\n",
       "      <td>LinearRegression</td>\n",
       "      <td>0.008731</td>\n",
       "      <td>10.042700</td>\n",
       "      <td>209.487294</td>\n",
       "    </tr>\n",
       "    <tr>\n",
       "      <th>3</th>\n",
       "      <td>ElasticNet</td>\n",
       "      <td>0.002903</td>\n",
       "      <td>10.072178</td>\n",
       "      <td>211.615336</td>\n",
       "    </tr>\n",
       "    <tr>\n",
       "      <th>1</th>\n",
       "      <td>Lasso</td>\n",
       "      <td>-0.000324</td>\n",
       "      <td>10.088466</td>\n",
       "      <td>212.181367</td>\n",
       "    </tr>\n",
       "    <tr>\n",
       "      <th>8</th>\n",
       "      <td>RandomForestRegressor</td>\n",
       "      <td>-0.064240</td>\n",
       "      <td>10.405777</td>\n",
       "      <td>241.452625</td>\n",
       "    </tr>\n",
       "    <tr>\n",
       "      <th>10</th>\n",
       "      <td>XGBRegressor</td>\n",
       "      <td>-0.088762</td>\n",
       "      <td>10.524979</td>\n",
       "      <td>213.102821</td>\n",
       "    </tr>\n",
       "    <tr>\n",
       "      <th>7</th>\n",
       "      <td>ExtraTreesRegressor</td>\n",
       "      <td>-0.110623</td>\n",
       "      <td>10.630120</td>\n",
       "      <td>246.391864</td>\n",
       "    </tr>\n",
       "    <tr>\n",
       "      <th>4</th>\n",
       "      <td>KNeighborsRegressor</td>\n",
       "      <td>-0.502985</td>\n",
       "      <td>12.366082</td>\n",
       "      <td>227.296076</td>\n",
       "    </tr>\n",
       "    <tr>\n",
       "      <th>5</th>\n",
       "      <td>AdaBoostRegressor</td>\n",
       "      <td>-1.850008</td>\n",
       "      <td>17.028556</td>\n",
       "      <td>646.578638</td>\n",
       "    </tr>\n",
       "    <tr>\n",
       "      <th>6</th>\n",
       "      <td>DecisionTreeRegressor</td>\n",
       "      <td>-1.857255</td>\n",
       "      <td>17.050193</td>\n",
       "      <td>325.532878</td>\n",
       "    </tr>\n",
       "  </tbody>\n",
       "</table>\n",
       "</div>"
      ],
      "text/plain": [
       "                        Model  R2_Train  RMSE_Train  MAPE_Train\n",
       "9   GradientBoostingRegressor  0.033666    9.915586  200.186071\n",
       "2                       Ridge  0.008733   10.042692  209.487227\n",
       "0            LinearRegression  0.008731   10.042700  209.487294\n",
       "3                  ElasticNet  0.002903   10.072178  211.615336\n",
       "1                       Lasso -0.000324   10.088466  212.181367\n",
       "8       RandomForestRegressor -0.064240   10.405777  241.452625\n",
       "10               XGBRegressor -0.088762   10.524979  213.102821\n",
       "7         ExtraTreesRegressor -0.110623   10.630120  246.391864\n",
       "4         KNeighborsRegressor -0.502985   12.366082  227.296076\n",
       "5           AdaBoostRegressor -1.850008   17.028556  646.578638\n",
       "6       DecisionTreeRegressor -1.857255   17.050193  325.532878"
      ]
     },
     "execution_count": 26,
     "metadata": {},
     "output_type": "execute_result"
    }
   ],
   "source": [
    "score_data.sort_values(\"RMSE_Train\", axis = 0, ascending = True)"
   ]
  },
  {
   "cell_type": "markdown",
   "id": "f052ec00",
   "metadata": {},
   "source": [
    "### By using polynomial features it seems that the R2 score  is deccreasing and increase in RMSE so we use the dataset without using polynmial features"
   ]
  },
  {
   "cell_type": "markdown",
   "id": "ccae13f9",
   "metadata": {},
   "source": [
    "### Another insight we can observe that the ensembles of decision tree model like Gradient boosting regressor and XGB regressor were performing well on the dataset. so by much tuning the model parameters we may achieve good RMSE score."
   ]
  },
  {
   "cell_type": "markdown",
   "id": "3c8abe61",
   "metadata": {},
   "source": [
    "# From above reulsts we can consolidate good model for final evaluations Gradient Boosting Regressor, Ridge, Linear Regression."
   ]
  },
  {
   "cell_type": "markdown",
   "id": "c2b697f5",
   "metadata": {},
   "source": [
    "# lets do Hypertuning for the model parameters and see the model performanace"
   ]
  },
  {
   "cell_type": "markdown",
   "id": "bc88d969",
   "metadata": {},
   "source": [
    "# Gradient Boosting Regressor Model"
   ]
  },
  {
   "cell_type": "code",
   "execution_count": 29,
   "id": "1e829eb1",
   "metadata": {
    "ExecuteTime": {
     "end_time": "2022-03-13T06:33:25.316494Z",
     "start_time": "2022-03-13T06:33:21.851735Z"
    }
   },
   "outputs": [
    {
     "name": "stdout",
     "output_type": "stream",
     "text": [
      "R2 Value:  0.02205935653247182\n",
      "RMSE:  9.974957291986495\n"
     ]
    },
    {
     "ename": "NameError",
     "evalue": "name 'pred_bgr' is not defined",
     "output_type": "error",
     "traceback": [
      "\u001b[1;31m---------------------------------------------------------------------------\u001b[0m",
      "\u001b[1;31mNameError\u001b[0m                                 Traceback (most recent call last)",
      "\u001b[1;32m~\\AppData\\Local\\Temp/ipykernel_11716/762922858.py\u001b[0m in \u001b[0;36m<module>\u001b[1;34m\u001b[0m\n\u001b[0;32m      6\u001b[0m \u001b[0mprint\u001b[0m\u001b[1;33m(\u001b[0m\u001b[1;34m\"R2 Value: \"\u001b[0m\u001b[1;33m,\u001b[0m \u001b[0mr2_score\u001b[0m\u001b[1;33m(\u001b[0m\u001b[0my_valid\u001b[0m\u001b[1;33m,\u001b[0m \u001b[0mpred_gbr\u001b[0m\u001b[1;33m)\u001b[0m\u001b[1;33m)\u001b[0m\u001b[1;33m\u001b[0m\u001b[1;33m\u001b[0m\u001b[0m\n\u001b[0;32m      7\u001b[0m \u001b[0mprint\u001b[0m\u001b[1;33m(\u001b[0m\u001b[1;34m\"RMSE: \"\u001b[0m\u001b[1;33m,\u001b[0m\u001b[0mnp\u001b[0m\u001b[1;33m.\u001b[0m\u001b[0msqrt\u001b[0m\u001b[1;33m(\u001b[0m\u001b[0mmean_squared_error\u001b[0m\u001b[1;33m(\u001b[0m\u001b[0my_valid\u001b[0m\u001b[1;33m,\u001b[0m \u001b[0mpred_gbr\u001b[0m\u001b[1;33m)\u001b[0m\u001b[1;33m)\u001b[0m\u001b[1;33m)\u001b[0m\u001b[1;33m\u001b[0m\u001b[1;33m\u001b[0m\u001b[0m\n\u001b[1;32m----> 8\u001b[1;33m \u001b[0mprint\u001b[0m\u001b[1;33m(\u001b[0m\u001b[1;34m\"MAPE:\"\u001b[0m \u001b[1;33m,\u001b[0m \u001b[0mnp\u001b[0m\u001b[1;33m.\u001b[0m\u001b[0mmean\u001b[0m\u001b[1;33m(\u001b[0m\u001b[0mnp\u001b[0m\u001b[1;33m.\u001b[0m\u001b[0mabs\u001b[0m\u001b[1;33m(\u001b[0m\u001b[1;33m(\u001b[0m\u001b[0my_valid\u001b[0m \u001b[1;33m-\u001b[0m \u001b[0mpred_bgr\u001b[0m\u001b[1;33m)\u001b[0m \u001b[1;33m/\u001b[0m \u001b[0my_valid\u001b[0m\u001b[1;33m)\u001b[0m\u001b[1;33m)\u001b[0m \u001b[1;33m*\u001b[0m \u001b[1;36m100\u001b[0m\u001b[1;33m)\u001b[0m\u001b[1;33m\u001b[0m\u001b[1;33m\u001b[0m\u001b[0m\n\u001b[0m",
      "\u001b[1;31mNameError\u001b[0m: name 'pred_bgr' is not defined"
     ]
    }
   ],
   "source": [
    "# create regressor object \n",
    "gbr = GradientBoostingRegressor(learning_rate = 0.01)\n",
    "# fit the regressor with x and y data \n",
    "gbr.fit(X_train, y_train)\n",
    "pred_gbr = gbr.predict(X_valid)\n",
    "print(\"R2 Value: \", r2_score(y_valid, pred_gbr))\n",
    "print(\"RMSE: \",np.sqrt(mean_squared_error(y_valid, pred_gbr)))\n",
    "print(\"MAPE:\" , np.mean(np.abs((y_valid - pred_bgr) / y_valid)) * 100)"
   ]
  },
  {
   "cell_type": "code",
   "execution_count": null,
   "id": "4ecab1b6",
   "metadata": {
    "ExecuteTime": {
     "end_time": "2022-03-13T06:33:25.319487Z",
     "start_time": "2022-03-13T06:33:25.319487Z"
    }
   },
   "outputs": [],
   "source": [
    "# create regressor object \n",
    "gbr = GradientBoostingRegressor(learning_rate = 0.001)\n",
    "# fit the regressor with x and y data \n",
    "gbr.fit(X_train, y_train)\n",
    "pred_gbr = gbr.predict(X_valid)\n",
    "print(\"R2 Value: \", r2_score(y_valid, pred_gbr))\n",
    "print(\"RMSE: \",np.sqrt(mean_squared_error(y_valid, pred_gbr)))\n",
    "print(\"MAPE:\" , np.mean(np.abs((y_valid - pred_gbr) / y_valid)) * 100)"
   ]
  },
  {
   "cell_type": "markdown",
   "id": "b46fefaf",
   "metadata": {},
   "source": [
    "# we infer that there is very low differnece even after Hypertuning Gradient Boosting\n"
   ]
  },
  {
   "cell_type": "markdown",
   "id": "8d277912",
   "metadata": {},
   "source": [
    "# Ridge Regressor Model"
   ]
  },
  {
   "cell_type": "code",
   "execution_count": 30,
   "id": "d69592bf",
   "metadata": {
    "ExecuteTime": {
     "end_time": "2022-03-13T06:33:27.353418Z",
     "start_time": "2022-03-13T06:33:27.323498Z"
    }
   },
   "outputs": [
    {
     "name": "stdout",
     "output_type": "stream",
     "text": [
      "R2 Value:  0.008731406160949029\n",
      "RMSE:  10.042699558122687\n",
      "MAPE: 209.48728689680243\n"
     ]
    }
   ],
   "source": [
    "# create regressor object \n",
    "rdge = Ridge(alpha=0.1)\n",
    "# fit the regressor with x and y data \n",
    "rdge.fit(X_train, y_train)\n",
    "pred_rdge = rdge.predict(X_valid)\n",
    "print(\"R2 Value: \", r2_score(y_valid, pred_rdge))\n",
    "print(\"RMSE: \",np.sqrt(mean_squared_error(y_valid, pred_rdge)))\n",
    "print(\"MAPE:\" , np.mean(np.abs((y_valid - pred_rdge) / y_valid)) * 100)"
   ]
  },
  {
   "cell_type": "code",
   "execution_count": 31,
   "id": "c33f575b",
   "metadata": {
    "ExecuteTime": {
     "end_time": "2022-03-13T06:33:27.702485Z",
     "start_time": "2022-03-13T06:33:27.667578Z"
    }
   },
   "outputs": [
    {
     "name": "stdout",
     "output_type": "stream",
     "text": [
      "R2 Value:  0.008883942094457975\n",
      "RMSE:  10.041926845511263\n",
      "MAPE: 209.4831357828701\n"
     ]
    }
   ],
   "source": [
    "# create regressor object \n",
    "rdge = Ridge(alpha=100)\n",
    "# fit the regressor with x and y data \n",
    "rdge.fit(X_train, y_train)\n",
    "pred_rdge = rdge.predict(X_valid)\n",
    "print(\"R2 Value: \", r2_score(y_valid, pred_rdge))\n",
    "print(\"RMSE: \",np.sqrt(mean_squared_error(y_valid, pred_rdge)))\n",
    "print(\"MAPE:\" , np.mean(np.abs((y_valid - pred_rdge) / y_valid)) * 100)"
   ]
  },
  {
   "cell_type": "code",
   "execution_count": 32,
   "id": "b7fac5b5",
   "metadata": {
    "ExecuteTime": {
     "end_time": "2022-03-13T06:33:28.239051Z",
     "start_time": "2022-03-13T06:33:28.208133Z"
    }
   },
   "outputs": [
    {
     "name": "stdout",
     "output_type": "stream",
     "text": [
      "R2 Value:  0.008731245652397024\n",
      "RMSE:  10.04270037119147\n",
      "MAPE: 209.48729364755116\n"
     ]
    }
   ],
   "source": [
    "# create regressor object \n",
    "rdge = Ridge(alpha=0.001)\n",
    "# fit the regressor with x and y data \n",
    "rdge.fit(X_train, y_train)\n",
    "pred_rdge = rdge.predict(X_valid)\n",
    "print(\"R2 Value: \", r2_score(y_valid, pred_rdge))\n",
    "print(\"RMSE: \",np.sqrt(mean_squared_error(y_valid, pred_rdge)))\n",
    "print(\"MAPE:\" , np.mean(np.abs((y_valid - pred_rdge) / y_valid)) * 100)"
   ]
  },
  {
   "cell_type": "markdown",
   "id": "b9523128",
   "metadata": {},
   "source": [
    "# Linear Regression Model"
   ]
  },
  {
   "cell_type": "code",
   "execution_count": 33,
   "id": "19611025",
   "metadata": {
    "ExecuteTime": {
     "end_time": "2022-03-13T06:33:34.529335Z",
     "start_time": "2022-03-13T06:33:34.498418Z"
    }
   },
   "outputs": [
    {
     "name": "stdout",
     "output_type": "stream",
     "text": [
      "R2 Value:  0.008731244030999896\n",
      "RMSE:  10.042700379404787\n",
      "MAPE: 209.48729371574495\n"
     ]
    }
   ],
   "source": [
    "# create regressor object \n",
    "lr = LinearRegression(n_jobs=-1, normalize = True)\n",
    "# fit the regressor with x and y data \n",
    "lr.fit(X_train, y_train)\n",
    "pred_lr = lr.predict(X_valid)\n",
    "print(\"R2 Value: \", r2_score(y_valid, pred_lr))\n",
    "print(\"RMSE: \",np.sqrt(mean_squared_error(y_valid, pred_lr)))\n",
    "print(\"MAPE:\" , np.mean(np.abs((y_valid - pred_lr) / y_valid)) * 100)"
   ]
  },
  {
   "cell_type": "code",
   "execution_count": 34,
   "id": "d36291ea",
   "metadata": {
    "ExecuteTime": {
     "end_time": "2022-03-13T06:33:39.040846Z",
     "start_time": "2022-03-13T06:33:39.007934Z"
    }
   },
   "outputs": [
    {
     "name": "stdout",
     "output_type": "stream",
     "text": [
      "R2 Value:  0.008731244030999896\n",
      "RMSE:  10.042700379404787\n",
      "MAPE: 209.48729371574498\n"
     ]
    }
   ],
   "source": [
    "# create regressor object \n",
    "lr = LinearRegression(n_jobs=-1, normalize = False)\n",
    "# fit the regressor with x and y data \n",
    "lr.fit(X_train, y_train)\n",
    "pred_lr = lr.predict(X_valid)\n",
    "print(\"R2 Value: \", r2_score(y_valid, pred_lr))\n",
    "print(\"RMSE: \",np.sqrt(mean_squared_error(y_valid, pred_lr)))\n",
    "print(\"MAPE:\" , np.mean(np.abs((y_valid - pred_lr) / y_valid)) * 100)"
   ]
  },
  {
   "cell_type": "markdown",
   "id": "f22ec6d3",
   "metadata": {},
   "source": [
    "# There is no improvemnt LR model results"
   ]
  },
  {
   "cell_type": "markdown",
   "id": "ab2d15af",
   "metadata": {},
   "source": [
    "# we infer that there is very low differnece even after Hypertuning Ridge"
   ]
  },
  {
   "cell_type": "markdown",
   "id": "92b08e0e",
   "metadata": {},
   "source": [
    "## Even after moving to other model the RMSE doesnt differ much. so we can use some advanced model for predicting the data.\n",
    "\n",
    "## I used VotingRegressor with base regressors as GradientBoostingRegressor and XGBRegressor as they both gave the best predictions as described in previous cells"
   ]
  },
  {
   "cell_type": "code",
   "execution_count": 35,
   "id": "8cbf13a6",
   "metadata": {
    "ExecuteTime": {
     "end_time": "2022-03-13T06:33:41.835972Z",
     "start_time": "2022-03-13T06:33:41.828991Z"
    }
   },
   "outputs": [],
   "source": [
    "#applying best hypertuned params\n",
    "gbr = GradientBoostingRegressor(learning_rate=0.01)\n",
    "rdge = Ridge(alpha=100)\n",
    "lr = LinearRegression(n_jobs=-1, normalize = False)"
   ]
  },
  {
   "cell_type": "code",
   "execution_count": 36,
   "id": "c0bd4123",
   "metadata": {
    "ExecuteTime": {
     "end_time": "2022-03-13T06:33:47.119455Z",
     "start_time": "2022-03-13T06:33:43.637851Z"
    }
   },
   "outputs": [
    {
     "name": "stdout",
     "output_type": "stream",
     "text": [
      "R2 Value:  0.01615649528471652\n",
      "RMSE:  10.005016480702148\n",
      "MAPE: 208.65056320052116\n"
     ]
    }
   ],
   "source": [
    "from sklearn.ensemble import VotingRegressor\n",
    "model_vr = VotingRegressor([('gbr', gbr), ('rdge', rdge), ('lr', lr)])\n",
    "model_vr.fit(X_train, y_train)\n",
    "pred_vr = model_vr.predict(X_valid)\n",
    "print(\"R2 Value: \", r2_score(y_valid, pred_vr))\n",
    "print(\"RMSE: \",np.sqrt(mean_squared_error(y_valid, pred_vr)))\n",
    "print(\"MAPE:\" , np.mean(np.abs((y_valid - pred_vr) / y_valid)) * 100)"
   ]
  },
  {
   "cell_type": "markdown",
   "id": "81d9ca70",
   "metadata": {},
   "source": [
    "# The above results are good than the previous model evaluation\n",
    "\n",
    "## Using the model for predicting the test data"
   ]
  },
  {
   "cell_type": "code",
   "execution_count": 37,
   "id": "24ec4f25",
   "metadata": {
    "ExecuteTime": {
     "end_time": "2022-03-13T06:33:47.199243Z",
     "start_time": "2022-03-13T06:33:47.122446Z"
    }
   },
   "outputs": [],
   "source": [
    "result[\"count\"] = abs(model_vr.predict(test_X))\n",
    "result.to_csv(\"Hackathon_2022/resources/VotingRegressor_HK_IZ_finalML.csv\", index = False)"
   ]
  },
  {
   "cell_type": "code",
   "execution_count": null,
   "id": "cd8c4baf",
   "metadata": {},
   "outputs": [],
   "source": []
  }
 ],
 "metadata": {
  "kernelspec": {
   "display_name": "Python 3 (ipykernel)",
   "language": "python",
   "name": "python3"
  },
  "language_info": {
   "codemirror_mode": {
    "name": "ipython",
    "version": 3
   },
   "file_extension": ".py",
   "mimetype": "text/x-python",
   "name": "python",
   "nbconvert_exporter": "python",
   "pygments_lexer": "ipython3",
   "version": "3.8.12"
  }
 },
 "nbformat": 4,
 "nbformat_minor": 5
}
