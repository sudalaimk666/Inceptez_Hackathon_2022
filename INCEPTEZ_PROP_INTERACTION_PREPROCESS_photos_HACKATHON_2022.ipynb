{
 "cells": [
  {
   "cell_type": "code",
   "execution_count": 1,
   "id": "09ffb329",
   "metadata": {
    "ExecuteTime": {
     "end_time": "2022-03-12T08:23:17.807495Z",
     "start_time": "2022-03-12T08:23:14.229717Z"
    }
   },
   "outputs": [],
   "source": [
    "import numpy as np\n",
    "import pandas as pd\n",
    "import seaborn as sns\n",
    "import scipy as sp\n",
    "import IPython\n",
    "import sys"
   ]
  },
  {
   "cell_type": "code",
   "execution_count": 2,
   "id": "829f66b1",
   "metadata": {
    "ExecuteTime": {
     "end_time": "2022-03-12T08:23:18.268263Z",
     "start_time": "2022-03-12T08:23:17.810488Z"
    }
   },
   "outputs": [],
   "source": [
    "#loading the datasets\n",
    "dataset = pd.read_csv(\"Hackathon_2022/resources/Dataset.csv\")\n",
    "interactions = pd.read_csv(\"Hackathon_2022/resources/Interactions.csv\")\n"
   ]
  },
  {
   "cell_type": "code",
   "execution_count": 3,
   "id": "583b2ab8",
   "metadata": {
    "ExecuteTime": {
     "end_time": "2022-03-12T08:23:18.885618Z",
     "start_time": "2022-03-12T08:23:18.270259Z"
    }
   },
   "outputs": [],
   "source": [
    "photoclicks = pd.read_csv(\"Hackathon_2022/resources/Photos.tsv\", sep='\\t')"
   ]
  },
  {
   "cell_type": "code",
   "execution_count": 4,
   "id": "febcf13b",
   "metadata": {
    "ExecuteTime": {
     "end_time": "2022-03-12T08:23:18.901193Z",
     "start_time": "2022-03-12T08:23:18.889671Z"
    }
   },
   "outputs": [],
   "source": [
    "pd.set_option('display.max_columns', None)  \n",
    "pd.set_option('display.max_rows', None)  "
   ]
  },
  {
   "cell_type": "code",
   "execution_count": 5,
   "id": "79f246b7",
   "metadata": {
    "ExecuteTime": {
     "end_time": "2022-03-12T08:23:18.933110Z",
     "start_time": "2022-03-12T08:23:18.903188Z"
    }
   },
   "outputs": [
    {
     "data": {
      "text/html": [
       "<div>\n",
       "<style scoped>\n",
       "    .dataframe tbody tr th:only-of-type {\n",
       "        vertical-align: middle;\n",
       "    }\n",
       "\n",
       "    .dataframe tbody tr th {\n",
       "        vertical-align: top;\n",
       "    }\n",
       "\n",
       "    .dataframe thead th {\n",
       "        text-align: right;\n",
       "    }\n",
       "</style>\n",
       "<table border=\"1\" class=\"dataframe\">\n",
       "  <thead>\n",
       "    <tr style=\"text-align: right;\">\n",
       "      <th></th>\n",
       "      <th>property_id</th>\n",
       "      <th>photo_urls</th>\n",
       "    </tr>\n",
       "  </thead>\n",
       "  <tbody>\n",
       "    <tr>\n",
       "      <th>0</th>\n",
       "      <td>ff808081469fd6e20146a5af948000ea</td>\n",
       "      <td>[{\\title\\\":\\\"Balcony\\\",\\\"name\\\":\\\"IMG_20131006...</td>\n",
       "    </tr>\n",
       "    <tr>\n",
       "      <th>1</th>\n",
       "      <td>ff8080814702d3d10147068359d200cd</td>\n",
       "      <td>NaN</td>\n",
       "    </tr>\n",
       "    <tr>\n",
       "      <th>2</th>\n",
       "      <td>ff808081470c645401470fb03f5800a6</td>\n",
       "      <td>[{\\title\\\":\\\"Bedroom\\\",\\\"name\\\":\\\"ff808081470c...</td>\n",
       "    </tr>\n",
       "    <tr>\n",
       "      <th>3</th>\n",
       "      <td>ff808081470c6454014715eaa5960281</td>\n",
       "      <td>[{\\title\\\":\\\"Bedroom\\\",\\\"name\\\":\\\"Screenshot_7...</td>\n",
       "    </tr>\n",
       "    <tr>\n",
       "      <th>4</th>\n",
       "      <td>ff808081474aa867014771a0298f0aa6</td>\n",
       "      <td>[{\\title\\\":\\\"Other\\\",\\\"name\\\":\\\"ff808081474aa8...</td>\n",
       "    </tr>\n",
       "  </tbody>\n",
       "</table>\n",
       "</div>"
      ],
      "text/plain": [
       "                        property_id  \\\n",
       "0  ff808081469fd6e20146a5af948000ea   \n",
       "1  ff8080814702d3d10147068359d200cd   \n",
       "2  ff808081470c645401470fb03f5800a6   \n",
       "3  ff808081470c6454014715eaa5960281   \n",
       "4  ff808081474aa867014771a0298f0aa6   \n",
       "\n",
       "                                          photo_urls  \n",
       "0  [{\\title\\\":\\\"Balcony\\\",\\\"name\\\":\\\"IMG_20131006...  \n",
       "1                                                NaN  \n",
       "2  [{\\title\\\":\\\"Bedroom\\\",\\\"name\\\":\\\"ff808081470c...  \n",
       "3  [{\\title\\\":\\\"Bedroom\\\",\\\"name\\\":\\\"Screenshot_7...  \n",
       "4  [{\\title\\\":\\\"Other\\\",\\\"name\\\":\\\"ff808081474aa8...  "
      ]
     },
     "execution_count": 5,
     "metadata": {},
     "output_type": "execute_result"
    }
   ],
   "source": [
    "photoclicks.head(5)"
   ]
  },
  {
   "cell_type": "code",
   "execution_count": 6,
   "id": "7b5c9be7",
   "metadata": {
    "ExecuteTime": {
     "end_time": "2022-03-12T08:23:18.948068Z",
     "start_time": "2022-03-12T08:23:18.936100Z"
    }
   },
   "outputs": [
    {
     "data": {
      "text/plain": [
       "(28888, 2)"
      ]
     },
     "execution_count": 6,
     "metadata": {},
     "output_type": "execute_result"
    }
   ],
   "source": [
    "photoclicks.shape"
   ]
  },
  {
   "cell_type": "code",
   "execution_count": 7,
   "id": "38cd7eec",
   "metadata": {
    "ExecuteTime": {
     "end_time": "2022-03-12T08:23:18.993946Z",
     "start_time": "2022-03-12T08:23:18.950062Z"
    }
   },
   "outputs": [],
   "source": [
    "photoclicks['photo_urls'] = photoclicks['photo_urls'].str.rstrip('.img')"
   ]
  },
  {
   "cell_type": "code",
   "execution_count": 8,
   "id": "9d1b62e5",
   "metadata": {
    "ExecuteTime": {
     "end_time": "2022-03-12T08:23:19.023868Z",
     "start_time": "2022-03-12T08:23:18.998932Z"
    }
   },
   "outputs": [
    {
     "data": {
      "text/html": [
       "<div>\n",
       "<style scoped>\n",
       "    .dataframe tbody tr th:only-of-type {\n",
       "        vertical-align: middle;\n",
       "    }\n",
       "\n",
       "    .dataframe tbody tr th {\n",
       "        vertical-align: top;\n",
       "    }\n",
       "\n",
       "    .dataframe thead th {\n",
       "        text-align: right;\n",
       "    }\n",
       "</style>\n",
       "<table border=\"1\" class=\"dataframe\">\n",
       "  <thead>\n",
       "    <tr style=\"text-align: right;\">\n",
       "      <th></th>\n",
       "      <th>property_id</th>\n",
       "      <th>photo_urls</th>\n",
       "    </tr>\n",
       "  </thead>\n",
       "  <tbody>\n",
       "    <tr>\n",
       "      <th>0</th>\n",
       "      <td>ff808081469fd6e20146a5af948000ea</td>\n",
       "      <td>[{\\title\\\":\\\"Balcony\\\",\\\"name\\\":\\\"IMG_20131006...</td>\n",
       "    </tr>\n",
       "    <tr>\n",
       "      <th>1</th>\n",
       "      <td>ff8080814702d3d10147068359d200cd</td>\n",
       "      <td>NaN</td>\n",
       "    </tr>\n",
       "    <tr>\n",
       "      <th>2</th>\n",
       "      <td>ff808081470c645401470fb03f5800a6</td>\n",
       "      <td>[{\\title\\\":\\\"Bedroom\\\",\\\"name\\\":\\\"ff808081470c...</td>\n",
       "    </tr>\n",
       "    <tr>\n",
       "      <th>3</th>\n",
       "      <td>ff808081470c6454014715eaa5960281</td>\n",
       "      <td>[{\\title\\\":\\\"Bedroom\\\",\\\"name\\\":\\\"Screenshot_7...</td>\n",
       "    </tr>\n",
       "    <tr>\n",
       "      <th>4</th>\n",
       "      <td>ff808081474aa867014771a0298f0aa6</td>\n",
       "      <td>[{\\title\\\":\\\"Other\\\",\\\"name\\\":\\\"ff808081474aa8...</td>\n",
       "    </tr>\n",
       "  </tbody>\n",
       "</table>\n",
       "</div>"
      ],
      "text/plain": [
       "                        property_id  \\\n",
       "0  ff808081469fd6e20146a5af948000ea   \n",
       "1  ff8080814702d3d10147068359d200cd   \n",
       "2  ff808081470c645401470fb03f5800a6   \n",
       "3  ff808081470c6454014715eaa5960281   \n",
       "4  ff808081474aa867014771a0298f0aa6   \n",
       "\n",
       "                                          photo_urls  \n",
       "0  [{\\title\\\":\\\"Balcony\\\",\\\"name\\\":\\\"IMG_20131006...  \n",
       "1                                                NaN  \n",
       "2  [{\\title\\\":\\\"Bedroom\\\",\\\"name\\\":\\\"ff808081470c...  \n",
       "3  [{\\title\\\":\\\"Bedroom\\\",\\\"name\\\":\\\"Screenshot_7...  \n",
       "4  [{\\title\\\":\\\"Other\\\",\\\"name\\\":\\\"ff808081474aa8...  "
      ]
     },
     "execution_count": 8,
     "metadata": {},
     "output_type": "execute_result"
    }
   ],
   "source": [
    "photoclicks.head(5)"
   ]
  },
  {
   "cell_type": "code",
   "execution_count": 9,
   "id": "d6aed021",
   "metadata": {
    "ExecuteTime": {
     "end_time": "2022-03-12T08:23:19.054787Z",
     "start_time": "2022-03-12T08:23:19.026857Z"
    }
   },
   "outputs": [],
   "source": [
    "photoclicks.photo_urls = photoclicks.photo_urls.fillna('no image')"
   ]
  },
  {
   "cell_type": "code",
   "execution_count": 10,
   "id": "b602ad5c",
   "metadata": {
    "ExecuteTime": {
     "end_time": "2022-03-12T08:23:19.628485Z",
     "start_time": "2022-03-12T08:23:19.621502Z"
    }
   },
   "outputs": [],
   "source": [
    "import glob\n",
    "import os"
   ]
  },
  {
   "cell_type": "code",
   "execution_count": 11,
   "id": "e202d744",
   "metadata": {
    "ExecuteTime": {
     "end_time": "2022-03-12T08:23:20.835283Z",
     "start_time": "2022-03-12T08:23:20.192967Z"
    }
   },
   "outputs": [
    {
     "name": "stderr",
     "output_type": "stream",
     "text": [
      "[nltk_data] Downloading package punkt to\n",
      "[nltk_data]     C:\\Users\\User\\AppData\\Roaming\\nltk_data...\n",
      "[nltk_data]   Package punkt is already up-to-date!\n",
      "[nltk_data] Downloading package stopwords to\n",
      "[nltk_data]     C:\\Users\\User\\AppData\\Roaming\\nltk_data...\n",
      "[nltk_data]   Package stopwords is already up-to-date!\n",
      "[nltk_data] Downloading package wordnet to\n",
      "[nltk_data]     C:\\Users\\User\\AppData\\Roaming\\nltk_data...\n",
      "[nltk_data]   Package wordnet is already up-to-date!\n"
     ]
    }
   ],
   "source": [
    "import nltk\n",
    "nltk.download('punkt')\n",
    "nltk.download('stopwords')\n",
    "nltk.download('wordnet')\n",
    "from nltk.corpus import stopwords\n",
    "from nltk.stem import WordNetLemmatizer"
   ]
  },
  {
   "cell_type": "code",
   "execution_count": 12,
   "id": "81f8bfbe",
   "metadata": {
    "ExecuteTime": {
     "end_time": "2022-03-12T08:23:20.851240Z",
     "start_time": "2022-03-12T08:23:20.839272Z"
    }
   },
   "outputs": [],
   "source": [
    "#object of WordNetLemmatizer\n",
    "lm = WordNetLemmatizer()"
   ]
  },
  {
   "cell_type": "code",
   "execution_count": 13,
   "id": "8e5cbe19",
   "metadata": {
    "ExecuteTime": {
     "end_time": "2022-03-12T08:23:21.421892Z",
     "start_time": "2022-03-12T08:23:21.408925Z"
    }
   },
   "outputs": [],
   "source": [
    "def text_transformation(photoclicks):\n",
    "    corpus = []\n",
    "    for item in train_col:\n",
    "        new_item = re.sub('[^a-zA-Z]',' ',str(item))\n",
    "        new_item = new_item.lower()\n",
    "        new_item = new_item.split()\n",
    "        new_item = [lm.lemmatize(word) for word in new_item if word not in set(stopwords.words('english'))]\n",
    "        corpus.append(' '.join(str(x) for x in new_item))\n",
    "    return corpus"
   ]
  },
  {
   "cell_type": "code",
   "execution_count": 57,
   "id": "8a822a73",
   "metadata": {
    "ExecuteTime": {
     "end_time": "2022-03-12T09:22:49.279720Z",
     "start_time": "2022-03-12T09:22:47.963497Z"
    }
   },
   "outputs": [],
   "source": [
    "import re\n",
    "from bs4 import BeautifulSoup\n",
    "import unicodedata\n",
    "import contractions\n",
    "import spacy\n",
    "import nltk\n",
    "\n",
    "#library to remove emoji\n",
    "import demoji\n",
    "demoji.download_codes()\n",
    "\n",
    "import re\n",
    "from emot.emo_unicode import UNICODE_EMOJI\n",
    "\n",
    "nlp = spacy.load('en')\n",
    "ps = nltk.porter.PorterStemmer()\n",
    "\n",
    "\n",
    "\n",
    "contractions_dict = {\"ain't\": \"are not\",\"'s\":\" is\",\"aren't\": \"are not\"}\n",
    "# Regular expression for finding contractions\n",
    "contractions_re=re.compile('(%s)' % '|'.join(contractions_dict.keys()))\n",
    "def expand_contractions(text,contractions_dict=contractions_dict):\n",
    "    def replace(match):\n",
    "        return contractions_dict[match.group(0)]\n",
    "    return contractions_re.sub(replace, text)\n",
    "\n",
    "def replace_specialchars(text):\n",
    "    text = text.replace(\"$&@*#\",\"vulgar and offensive word\")\n",
    "    return text\n",
    "\n",
    "def convert_emojis(text):\n",
    "    for emot in UNICODE_EMOJI:\n",
    "        text = text.replace(emot, \" \".join(UNICODE_EMOJI[emot].replace(\",\",\"\").replace(\":\",\"\").split()))\n",
    "    return text\n",
    "\n",
    "def strip_html_tags(text):\n",
    "    soup = BeautifulSoup(text, \"html.parser\")\n",
    "    #[s.extract() for s in soup(['iframe', 'script'])]\n",
    "    stripped_text = soup.get_text()\n",
    "    stripped_text = re.sub(r'[\\r|\\n|\\r\\n]+', '\\n', stripped_text)\n",
    "    return stripped_text\n",
    "\n",
    "\n",
    "def text_transformation(photoclicks):\n",
    "    text = []\n",
    "    for item in train_col:\n",
    "        new_item = re.sub('[^a-zA-Z]',' ',str(item))\n",
    "        new_item = new_item.lower()\n",
    "        new_item = new_item.split()\n",
    "        new_item = [lm.lemmatize(word) for word in new_item if word not in set(stopwords.words('english'))]\n",
    "        text.append(' '.join(str(x) for x in new_item))\n",
    "    return text\n",
    "\n",
    "def remove_accented_chars(text):\n",
    "    text = unicodedata.normalize('NFKD', text).encode('ascii', 'ignore').decode('utf-8', 'ignore')\n",
    "    return text\n",
    "\n",
    "def expand_contractions(text):\n",
    "    return contractions.fix(text)\n",
    "\n",
    "\n",
    "def spacy_lemmatize_text(text):\n",
    "    text = nlp(text)\n",
    "    text = ' '.join([word.lemma_ if word.lemma_ != '-PRON-' else word.text for word in text])\n",
    "    return text\n",
    "\n",
    "\n",
    "def simple_stemming(text, stemmer=ps):\n",
    "    text = ' '.join([stemmer.stem(word) for word in text.split()])\n",
    "    return text\n",
    "\n",
    "\n",
    "def remove_special_characters(text, remove_digits=False):\n",
    "    pattern = r'[^a-zA-Z0-9\\s]' if not remove_digits else r'[^a-zA-Z\\s]'\n",
    "    text = re.sub(pattern, '', text)\n",
    "    return text\n",
    "\n",
    "def extract_data_from_report3(text):\n",
    "    soup = BeautifulSoup(open(text), \"html.parser\")\n",
    "\n",
    "def remove_stopwords(text, is_lower_case=False, stopwords=None):\n",
    "    if not stopwords:\n",
    "        stopwords = nltk.corpus.stopwords.words('english')\n",
    "    tokens = nltk.word_tokenize(text)\n",
    "    tokens = [token.strip() for token in tokens]\n",
    "    \n",
    "    if is_lower_case:\n",
    "        filtered_tokens = [token for token in tokens if token not in stopwords]\n",
    "    else:\n",
    "        filtered_tokens = [token for token in tokens if token.lower() not in stopwords]\n",
    "    \n",
    "    filtered_text = ' '.join(filtered_tokens)    \n",
    "    return filtered_text"
   ]
  },
  {
   "cell_type": "code",
   "execution_count": null,
   "id": "1033ead0",
   "metadata": {},
   "outputs": [],
   "source": []
  },
  {
   "cell_type": "code",
   "execution_count": 67,
   "id": "f9970ae6",
   "metadata": {
    "ExecuteTime": {
     "end_time": "2022-03-12T09:52:42.992960Z",
     "start_time": "2022-03-12T09:52:42.969023Z"
    }
   },
   "outputs": [],
   "source": [
    "import tqdm\n",
    "\n",
    "def text_pre_processor(text, html_strip=True, replace_contractions = True,replace_chars = True,\n",
    "                       replace_emoji = True, accented_char_removal=True, contraction_expansion=True,\n",
    "                       text_lower_case=True, text_stemming=False, text_lemmatization=True, \n",
    "                       special_char_removal=True, remove_digits=True, stopword_removal=True, \n",
    "                       stopword_list=['title', 'name', 'display']):\n",
    "    \n",
    "    # strip HTML\n",
    "    if html_strip:\n",
    "        text = strip_html_tags(text)\n",
    "    \n",
    "    # replacing contractions\n",
    "    if replace_contractions:\n",
    "        text = expand_contractions(text)\n",
    "        \n",
    "    # replacing special characters\n",
    "    if replace_chars:\n",
    "        text = replace_specialchars(text)\n",
    "        \n",
    "    # replacing emojis\n",
    "    if replace_emoji:\n",
    "        text = convert_emojis(text)\n",
    "    \n",
    "    # remove extra newlines (often might be present in really noisy text)\n",
    "    text = text.translate(text.maketrans(\"\\n\\t\\r\", \"   \"))\n",
    "    \n",
    "    # remove accented characters\n",
    "    if accented_char_removal:\n",
    "        text = remove_accented_chars(text)\n",
    "    \n",
    "    # expand contractions    \n",
    "    if contraction_expansion:\n",
    "        text = expand_contractions(text)     \n",
    "    \n",
    "    # lemmatize text\n",
    "    if text_lemmatization:\n",
    "        text = spacy_lemmatize_text(text) \n",
    "        \n",
    "    # remove special characters and\\or digits    \n",
    "    if special_char_removal:\n",
    "        # insert spaces between special characters to isolate them    \n",
    "        special_char_pattern = re.compile(r'([{.(-)!}])')\n",
    "        text = special_char_pattern.sub(\" \\\\1 \", text)\n",
    "        text = remove_special_characters(text, remove_digits=remove_digits)  \n",
    "        \n",
    "    # stem text\n",
    "    if text_stemming and not text_lemmatization:\n",
    "        text = simple_stemming(text)\n",
    "        \n",
    "    # lowercase the text    \n",
    "    if text_lower_case:\n",
    "        text = text.lower()\n",
    "        \n",
    "        \n",
    "    # remove stopwords\n",
    "    if stopword_removal:\n",
    "        text = remove_stopwords(text, is_lower_case=text_lower_case, \n",
    "                                stopwords=stopword_list)\n",
    "        \n",
    "    # remove extra whitespace\n",
    "    text = re.sub(' +', ' ', text)\n",
    "    text = text.strip()\n",
    "    \n",
    "    \n",
    "    return text"
   ]
  },
  {
   "cell_type": "code",
   "execution_count": 68,
   "id": "7401aad0",
   "metadata": {
    "ExecuteTime": {
     "end_time": "2022-03-12T09:52:43.242292Z",
     "start_time": "2022-03-12T09:52:43.232317Z"
    }
   },
   "outputs": [
    {
     "data": {
      "text/plain": [
       "<function __main__.text_pre_processor(text, html_strip=True, replace_contractions=True, replace_chars=True, replace_emoji=True, accented_char_removal=True, contraction_expansion=True, text_lower_case=True, text_stemming=False, text_lemmatization=True, special_char_removal=True, remove_digits=True, stopword_removal=True, stopword_list=['title', 'name', 'display'])>"
      ]
     },
     "execution_count": 68,
     "metadata": {},
     "output_type": "execute_result"
    }
   ],
   "source": [
    "text_pre_processor"
   ]
  },
  {
   "cell_type": "code",
   "execution_count": 69,
   "id": "a052b84a",
   "metadata": {
    "ExecuteTime": {
     "end_time": "2022-03-12T10:03:11.491483Z",
     "start_time": "2022-03-12T09:52:43.445747Z"
    }
   },
   "outputs": [],
   "source": [
    "photoclicks[\"clean_text\"] = photoclicks.photo_urls.apply(text_pre_processor)"
   ]
  },
  {
   "cell_type": "code",
   "execution_count": null,
   "id": "153e310e",
   "metadata": {},
   "outputs": [],
   "source": []
  },
  {
   "cell_type": "code",
   "execution_count": 70,
   "id": "f250aad7",
   "metadata": {
    "ExecuteTime": {
     "end_time": "2022-03-12T10:03:11.507441Z",
     "start_time": "2022-03-12T10:03:11.494476Z"
    }
   },
   "outputs": [],
   "source": [
    "from concurrent import futures\n",
    "import threading\n",
    "\n",
    "def parallel_preprocessing(idx, doc, total_docs):\n",
    "    return text_pre_processor(doc)\n",
    "\n",
    "\n",
    "def pre_process_documents_parallel(documents):\n",
    "    total_docs = len(documents)\n",
    "    docs_input = [[idx, doc, total_docs] for idx, doc in enumerate(documents)]\n",
    "    \n",
    "    ex = futures.ThreadPoolExecutor(max_workers=None)\n",
    "    print('preprocessing: starting')\n",
    "    norm_descriptions_map = ex.map(parallel_preprocessing, \n",
    "                                   [record[0] for record in docs_input],\n",
    "                                   [record[1] for record in docs_input],\n",
    "                                   [record[2] for record in docs_input])\n",
    "    print(\"preprocessing: end\")\n",
    "    norm_descriptions = list(norm_descriptions_map)\n",
    "    return norm_descriptions"
   ]
  },
  {
   "cell_type": "code",
   "execution_count": 71,
   "id": "1faffdd6",
   "metadata": {
    "ExecuteTime": {
     "end_time": "2022-03-12T10:12:58.595253Z",
     "start_time": "2022-03-12T10:03:11.510480Z"
    }
   },
   "outputs": [
    {
     "name": "stdout",
     "output_type": "stream",
     "text": [
      "preprocessing: starting\n",
      "preprocessing: end\n"
     ]
    }
   ],
   "source": [
    "corpus = pre_process_documents_parallel(photoclicks.photo_urls)"
   ]
  },
  {
   "cell_type": "code",
   "execution_count": 72,
   "id": "f40470e0",
   "metadata": {
    "ExecuteTime": {
     "end_time": "2022-03-12T10:12:58.611210Z",
     "start_time": "2022-03-12T10:12:58.599242Z"
    }
   },
   "outputs": [],
   "source": [
    "from matplotlib import style,rcParams\n",
    "style.use('seaborn-white')\n",
    "import warnings\n",
    "warnings.filterwarnings('ignore')\n",
    "from wordcloud import WordCloud\n",
    "import re"
   ]
  },
  {
   "cell_type": "code",
   "execution_count": 73,
   "id": "24611f1f",
   "metadata": {
    "ExecuteTime": {
     "end_time": "2022-03-12T10:13:27.875624Z",
     "start_time": "2022-03-12T10:12:58.614202Z"
    }
   },
   "outputs": [
    {
     "data": {
      "text/plain": [
       "<matplotlib.image.AxesImage at 0x1ee020883d0>"
      ]
     },
     "execution_count": 73,
     "metadata": {},
     "output_type": "execute_result"
    },
    {
     "data": {
      "image/png": "[encoded data removed]",
      "text/plain": [
       "<Figure size 1440x576 with 1 Axes>"
      ]
     },
     "metadata": {},
     "output_type": "display_data"
    }
   ],
   "source": [
    "rcParams['figure.figsize'] = 20,8\n",
    "word_cloud = \"\"\n",
    "for row in corpus:\n",
    "    for word in row:\n",
    "        word_cloud+=\" \".join(word)\n",
    "\n",
    "wordcloud = WordCloud(width = 1000, height = 500,background_color ='white',min_font_size = 10).generate(word_cloud)\n",
    "plt.imshow(wordcloud)"
   ]
  },
  {
   "cell_type": "code",
   "execution_count": 74,
   "id": "adab411d",
   "metadata": {
    "ExecuteTime": {
     "end_time": "2022-03-12T10:13:27.922151Z",
     "start_time": "2022-03-12T10:13:27.878267Z"
    }
   },
   "outputs": [
    {
     "data": {
      "text/html": [
       "<div>\n",
       "<style scoped>\n",
       "    .dataframe tbody tr th:only-of-type {\n",
       "        vertical-align: middle;\n",
       "    }\n",
       "\n",
       "    .dataframe tbody tr th {\n",
       "        vertical-align: top;\n",
       "    }\n",
       "\n",
       "    .dataframe thead th {\n",
       "        text-align: right;\n",
       "    }\n",
       "</style>\n",
       "<table border=\"1\" class=\"dataframe\">\n",
       "  <thead>\n",
       "    <tr style=\"text-align: right;\">\n",
       "      <th></th>\n",
       "      <th>property_id</th>\n",
       "      <th>photo_urls</th>\n",
       "      <th>clean_text</th>\n",
       "    </tr>\n",
       "  </thead>\n",
       "  <tbody>\n",
       "    <tr>\n",
       "      <th>0</th>\n",
       "      <td>ff808081469fd6e20146a5af948000ea</td>\n",
       "      <td>[{\\title\\\":\\\"Balcony\\\",\\\"name\\\":\\\"IMG_20131006...</td>\n",
       "      <td>titlebalconynameimg jpgimagesmap originalfffde...</td>\n",
       "    </tr>\n",
       "    <tr>\n",
       "      <th>1</th>\n",
       "      <td>ff8080814702d3d10147068359d200cd</td>\n",
       "      <td>no image</td>\n",
       "      <td>no image</td>\n",
       "    </tr>\n",
       "    <tr>\n",
       "      <th>2</th>\n",
       "      <td>ff808081470c645401470fb03f5800a6</td>\n",
       "      <td>[{\\title\\\":\\\"Bedroom\\\",\\\"name\\\":\\\"ff808081470c...</td>\n",
       "      <td>titlebedroomnameffcfbfalarge jpgimagesmap medi...</td>\n",
       "    </tr>\n",
       "    <tr>\n",
       "      <th>3</th>\n",
       "      <td>ff808081470c6454014715eaa5960281</td>\n",
       "      <td>[{\\title\\\":\\\"Bedroom\\\",\\\"name\\\":\\\"Screenshot_7...</td>\n",
       "      <td>titlebedroomnamescreenshot jpgimagesmap medium...</td>\n",
       "    </tr>\n",
       "    <tr>\n",
       "      <th>4</th>\n",
       "      <td>ff808081474aa867014771a0298f0aa6</td>\n",
       "      <td>[{\\title\\\":\\\"Other\\\",\\\"name\\\":\\\"ff808081474aa8...</td>\n",
       "      <td>titleothernameffaaafaalarge jpgimagesmap thumb...</td>\n",
       "    </tr>\n",
       "  </tbody>\n",
       "</table>\n",
       "</div>"
      ],
      "text/plain": [
       "                        property_id  \\\n",
       "0  ff808081469fd6e20146a5af948000ea   \n",
       "1  ff8080814702d3d10147068359d200cd   \n",
       "2  ff808081470c645401470fb03f5800a6   \n",
       "3  ff808081470c6454014715eaa5960281   \n",
       "4  ff808081474aa867014771a0298f0aa6   \n",
       "\n",
       "                                          photo_urls  \\\n",
       "0  [{\\title\\\":\\\"Balcony\\\",\\\"name\\\":\\\"IMG_20131006...   \n",
       "1                                           no image   \n",
       "2  [{\\title\\\":\\\"Bedroom\\\",\\\"name\\\":\\\"ff808081470c...   \n",
       "3  [{\\title\\\":\\\"Bedroom\\\",\\\"name\\\":\\\"Screenshot_7...   \n",
       "4  [{\\title\\\":\\\"Other\\\",\\\"name\\\":\\\"ff808081474aa8...   \n",
       "\n",
       "                                          clean_text  \n",
       "0  titlebalconynameimg jpgimagesmap originalfffde...  \n",
       "1                                           no image  \n",
       "2  titlebedroomnameffcfbfalarge jpgimagesmap medi...  \n",
       "3  titlebedroomnamescreenshot jpgimagesmap medium...  \n",
       "4  titleothernameffaaafaalarge jpgimagesmap thumb...  "
      ]
     },
     "execution_count": 74,
     "metadata": {},
     "output_type": "execute_result"
    }
   ],
   "source": [
    "photoclicks.head()"
   ]
  },
  {
   "cell_type": "code",
   "execution_count": 66,
   "id": "d5ca4628",
   "metadata": {
    "ExecuteTime": {
     "end_time": "2022-03-12T09:51:52.157540Z",
     "start_time": "2022-03-12T09:51:51.410176Z"
    }
   },
   "outputs": [],
   "source": [
    "photoclicks['clean_text'].to_csv(\"Hackathon_2022/resources/photos_preprocessed.csv\", index = False)"
   ]
  },
  {
   "cell_type": "code",
   "execution_count": null,
   "id": "a81529d9",
   "metadata": {},
   "outputs": [],
   "source": []
  }
 ],
 "metadata": {
  "kernelspec": {
   "display_name": "Python 3 (ipykernel)",
   "language": "python",
   "name": "python3"
  },
  "language_info": {
   "codemirror_mode": {
    "name": "ipython",
    "version": 3
   },
   "file_extension": ".py",
   "mimetype": "text/x-python",
   "name": "python",
   "nbconvert_exporter": "python",
   "pygments_lexer": "ipython3",
   "version": "3.8.12"
  }
 },
 "nbformat": 4,
 "nbformat_minor": 5
}
